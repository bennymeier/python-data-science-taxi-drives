# Import Libraries
import matplotlib.pyplot as plt
import glob
import seaborn as sns  # visualization
import matplotlib.pyplot as plt  # visualization
import os  # operating system dependent modules of Python
import plotly.figure_factory as ff  # visualization
import plotly.tools as tls  # visualization
import plotly.graph_objs as go  # visualization
import plotly.offline as py  # visualization
import warnings
import itertools
import math
import numpy as np  # linear algebra
import pandas as pd  # data processing, CSV file I/O (e.g. pd.read_csv)
pd.set_option('display.max_columns', None)  # or 1000
pd.set_option('display.max_rows', None)  # or 1000
pd.set_option('display.max_colwidth', None)  # or 199
# py.init_notebook_mode(connected=True)  # visualization
warnings.filterwarnings("ignore")


class TaxiTrips:
    def __init__(self, path="test"):
        self.frame = None
        self.path = path
        self.initFrame()
        self.convertPaymentType()
        self.convertTripType()

    def initFrame(self):
        path = r'test'
        all_files = glob.glob(os.path.join(path, "*.txt"))
        print("Files used: \n", all_files)

        li = []
        for current_file in all_files:
            df = pd.read_csv(current_file,
                             delimiter="|", encoding="utf-8")
            li.append(df)
        self.frame = pd.concat(li, axis=0, ignore_index=True)

    def getInfo(self):
        print(self.frame.head())

    # Durchschnittliche Stecke in Miles
    def get_mean_mileage(self):
        col_mileage = self.frame["MILEAGE"]
        mean_mileage = col_mileage.mean()
        print("Durchschnittliche Strecke: ", round(mean_mileage, 2), "m")

    # Durchschnittlicher Preis
    def get_mean_amont_per_drive(self):
        col_totalamount = self.frame["TOTALAMOUNT"]
        mean_totalamount = col_totalamount.mean()
        print("Durchschnittlicher Preis pro Strecke: ",
              round(mean_totalamount, 2), "$")

    # Weiteste Strecke
    def get_furthest_way(self):
        col_mileage = self.frame["MILEAGE"]
        max_mileage = col_mileage.max()
        print("Weiteste Strecke: ", round(max_mileage, 2), "m")

    # Teuerste Fahrt
    def get_most_expensive_drive(self):
        col_totalamount = self.frame["TOTALAMOUNT"]
        max_totalamount = col_totalamount.max()
        print("Teuerste Fahrt: ", round(max_totalamount, 2), "$")

    # Alle Providernames, duplikate entfernt
    def get_distinct_providernames(self):
        col_providernames = self.frame["PROVIDERNAME"]
        distinct_providernames = col_providernames.drop_duplicates()
        print("Alle Providernames:\n", distinct_providernames)

    # Meisten Fahrten an einem Datum
    def get_date_of_most_trips(self):
        col_origindate = self.frame["ORIGINDATETIME_TR"]
        origindate_most_drives = col_origindate.value_counts()
        col_destinationdate = self.frame["DESTINATIONDATETIME_TR"]
        destinationdate_most_drives = col_destinationdate.value_counts()
        print("Meistes Datum/Uhrzeit Abfahrt:\n", origindate_most_drives)
        print("Meistes Datum/Uhrzeit Ankunft:\n", destinationdate_most_drives)

    def convertPaymentType(self):
        self.frame["PAYMENTTYPE"] = self.frame["PAYMENTTYPE"].map({1: "Credit", 2: "Cash", 3: "EHail",
                                                                      4: "Other", 5: "Uber"})

    def getPaymentTypes(self):
        print(self.frame["PAYMENTTYPE"].value_counts())

    def convertTripType(self):
        self.frame["TRIPTYPE"] = self.frame["TRIPTYPE"].map({
            1: "Ordinal (normal rate)", 2: "VoD (Vehicle on-demand",
            3: "TransportDC (grant program)", 4: "TransportDCShared (grant program)",
            5: "MOVA (grant program)", 6: "CFSA (grant program)",
            7: "NRS (grant program)", 8: "NEMT (grant program"
        })

    def getTripTypes(self):
        print(self.frame["TRIPTYPE"].value_counts())

    def getVariableSummary(self):
        summary = self.frame.describe().transpose().reset_index().rename(columns={"index":
                                                                                  "variable"})
        summary = np.around(summary, 2)

        var_lst = [summary["variable"], summary["count"], summary['mean'], summary['std'],
                   summary["min"], summary["25%"], summary["50%"], summary["75%"], summary["max"]]

        table = go.Table(header=dict(values=summary.columns.tolist(),
                                     line=dict(color=['#506784']),
                                     fill=dict(color=['#119DFF']),
                                     ),
                         cells=dict(values=var_lst,
                                    line=dict(color=['#506784']),
                                    fill=dict(color=["lightgrey", '#F5F8FF']),
                                    ),
                         columnwidth=[130, 80, 80, 80, 80, 80, 80, 80, 80])

        layout = go.Layout(dict(title="Variable Summary"))
        figure = go.Figure(data=[table], layout=layout)
        py.iplot(figure)

    def getDataLoss(self):
        trace = go.Pie(values=[self.frame.shape[0], self.frame.count(columns="OBJECTID") - self.frame.shape[0]],
                       labels=["Available data",
                               "Data loss due to outliers and missing values"],
                       marker=dict(colors=['royalblue', 'lime'], line=dict(color="black",
                                                                           width=1.5)),
                       rotation=60,
                       hoverinfo="label+percent",
                       )

        layout = go.Layout(dict(title="Data Loss due to outliers and missing values",
                                plot_bgcolor="rgb(243,243,243)",
                                paper_bgcolor="rgb(243,243,243)",
                                )
                           )

        fig = go.Figure(data=[trace], layout=layout)
        py.iplot(fig)

    def getNumericPlots(self):
        cols = ['FAREAMOUNT',
                'ORIGIN_BLOCK_LONGITUDE', 'DESTINATION_BLOCK_LONGITUDE',
                'ORIGIN_BLOCK_LATITUDE', 'DESTINATION_BLOCK_LATITUDE']

        length = len(cols)
        cs = [(0.8941176470588236, 0.10196078431372549, 0.10980392156862745),
              (0.21568627450980393, 0.49411764705882355, 0.7215686274509804),
              (0.30196078431372547, 0.6862745098039216, 0.2901960784313726),
              (0.596078431372549, 0.3058823529411765, 0.6392156862745098),
              (1.0, 0.4980392156862745, 0.0), "b"]

        sns.set_style("darkgrid")
        plt.figure(figsize=(13, 15))
        for i, j, k in itertools.zip_longest(cols, range(length), cs):
            plt.subplot(math.ceil(length/2), math.ceil(length/3), j+1)
            sns.distplot(self.frame[i], color=k)
            plt.axvline(self.frame[i].mean(), linewidth=2,
                        linestyle="dashed", color="k",
                        label="Mean")
            plt.legend(loc="best")
            plt.title(i, color="b")
            plt.xlabel("")


Trips = TaxiTrips()
Trips.getNumericPlots()
# Trips.getVariableSummary()
# Trips.getDataLoss()
# Trips.getInfo()
# Trips.getTripTypes()
# Trips.getPaymentTypes()
# Trips.get_mean_mileage()
# Trips.get_mean_amont_per_drive()
# Trips.get_furthest_way()
# Trips.get_most_expensive_drive()
# Trips.get_distinct_providernames()
# Trips.get_date_of_most_trips()
